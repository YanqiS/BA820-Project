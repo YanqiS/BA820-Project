sns.set_style('whitegrid')

fig, axes = plt.subplots(nrows=len(df_listings.columns) // 3, ncols=3, figsize=(18, 100))
fig.tight_layout(pad=5.0)

axes = axes.flatten()

for i, col in enumerate(df_listings.select_dtypes(include=['float64', 'int64']).columns):
    sns.boxplot(y=col, data=df_listings, ax=axes[i])
    axes[i].set_title(f'Boxplot of {col}', fontsize=14)
    axes[i].set_ylabel('')
    axes[i].set_xlabel('')

for ax in axes[len(df_listings.select_dtypes(include=['float64', 'int64']).columns):]:
    ax.set_visible(False)

plt.show()
